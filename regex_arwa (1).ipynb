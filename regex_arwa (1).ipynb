{
  "cells": [
    {
      "cell_type": "markdown",
      "metadata": {
        "id": "TsR35hiuZhI5"
      },
      "source": [
        "# Exercise: Regular Expressions"
      ]
    },
    {
      "cell_type": "code",
      "execution_count": 2,
      "metadata": {
        "id": "Z9WputyJZhI7"
      },
      "outputs": [],
      "source": [
        "import re"
      ]
    },
    {
      "cell_type": "code",
      "execution_count": null,
      "metadata": {
        "id": "j9S29HloZhI9",
        "outputId": "7b67d0d1-01b0-49cf-a491-996cc34495f1"
      },
      "outputs": [
        {
          "name": "stdout",
          "output_type": "stream",
          "text": [
            "Username: john\n",
            "Mailserver: email\n",
            "Domain: com\n",
            "\n",
            "Username: mary\n",
            "Mailserver: otherplace\n",
            "Domain: net\n",
            "\n",
            "Username: support\n",
            "Mailserver: ourcompany\n",
            "Domain: co\n",
            "\n"
          ]
        }
      ],
      "source": [
        "#1 Question: Match all email addresses (SOLVED)\n",
        "\n",
        "inputs = [\"My email is john@email.com and mary@otherplace.net\",\n",
        "          \"Visit us at support@ourcompany.co.uk for help\",\n",
        "          \"No emails here\"]\n",
        "\n",
        "pattern = r\"(\\w+)@(\\w+)\\.(\\w+)\"\n",
        "\n",
        "matches = []\n",
        "for input in inputs:\n",
        "    matches += re.findall(pattern, input)\n",
        "\n",
        "for m in matches:\n",
        "    username = m[0]\n",
        "    mailserver = m[1]\n",
        "    domain = m[2]\n",
        "    print(f\"Username: {username}\")\n",
        "    print(f\"Mailserver: {mailserver}\")\n",
        "    print(f\"Domain: {domain}\")\n",
        "    print('')"
      ]
    },
    {
      "cell_type": "code",
      "execution_count": null,
      "metadata": {
        "colab": {
          "base_uri": "https://localhost:8080/"
        },
        "id": "z1Y6HF65ZhI_",
        "outputId": "10b24705-d0a0-4896-a2ad-5174bbc4a03c"
      },
      "outputs": [
        {
          "output_type": "stream",
          "name": "stdout",
          "text": [
            "email\n",
            "gmail\n",
            "ourcompany\n"
          ]
        }
      ],
      "source": [
        "#2 Question: Extract domain from email\n",
        "\n",
        "inputs = [\"john@email.com\",\n",
        "          \"mary+newsletter@gmail.com\",\n",
        "          \"support@ourcompany.co.uk\"]\n",
        "\n",
        "for email in inputs:\n",
        "    match = re.search(r\"@([\\w]+)\", email)\n",
        "    if match:\n",
        "        domain = match.group(1)\n",
        "        print(domain)"
      ]
    },
    {
      "cell_type": "code",
      "execution_count": null,
      "metadata": {
        "colab": {
          "base_uri": "https://localhost:8080/"
        },
        "id": "SY52pQ4sZhJA",
        "outputId": "cdec58c9-5716-4b95-91fc-88063edbfecd"
      },
      "outputs": [
        {
          "output_type": "stream",
          "name": "stdout",
          "text": [
            "555-123-4567 is a valid phone number.\n",
            "1 (234) 567-8910 is a valid phone number.\n",
            "notaphonenumber is not a valid phone number.\n"
          ]
        }
      ],
      "source": [
        "#3 Question: Validate phone number\n",
        "\n",
        "inputs = [\"555-123-4567\",\n",
        "          \"1 (234) 567-8910\",\n",
        "          \"notaphonenumber\"]\n",
        "\n",
        "for phone_number in inputs:\n",
        "    match = re.match(r\"^\\d{3}-\\d{3}-\\d{4}$|^\\d{1} \\(\\d{3}\\) \\d{3}-\\d{4}\", phone_number)\n",
        "\n",
        "    if match:\n",
        "        print(f\"{phone_number} is a valid phone number.\")\n",
        "    else:\n",
        "        print(f\"{phone_number} is not a valid phone number.\")"
      ]
    },
    {
      "cell_type": "code",
      "execution_count": null,
      "metadata": {
        "colab": {
          "base_uri": "https://localhost:8080/"
        },
        "id": "_jGFGRUWZhJB",
        "outputId": "01152238-1ea6-47ce-df65-15219f9329ee"
      },
      "outputs": [
        {
          "output_type": "stream",
          "name": "stdout",
          "text": [
            "The area code in (555) 123-4567 is 555.\n",
            "The area code in 1 (234) 567-8910 is 234.\n",
            "The area code in 5551234567 is None.\n"
          ]
        }
      ],
      "source": [
        "#4 Question: Extract area code\n",
        "\n",
        "inputs = [\"(555) 123-4567\",\n",
        "          \"1 (234) 567-8910\",\n",
        "          \"5551234567\"]\n",
        "\n",
        "for phone_number in inputs:\n",
        "    match = re.search(r\"\\((\\d{3})\\)|^\\d{3}\", phone_number)\n",
        "    if match:\n",
        "        area_code = match.group(1)\n",
        "        print(f\"The area code in {phone_number} is {area_code}.\")\n",
        "    else:\n",
        "        print(f\"No area code found in {phone_number}.\")"
      ]
    },
    {
      "cell_type": "code",
      "execution_count": null,
      "metadata": {
        "colab": {
          "base_uri": "https://localhost:8080/"
        },
        "id": "tkAYskkIZhJC",
        "outputId": "c1bfb8c7-6905-4e29-e40f-431e1a71fb5f"
      },
      "outputs": [
        {
          "output_type": "stream",
          "name": "stdout",
          "text": [
            "The host in \"Visit https://www.example.com for more info\" is com.\n",
            "No URLs found in \"Our website is example.com\".\n",
            "No URLs found in \"No URLs here\".\n"
          ]
        }
      ],
      "source": [
        "#5 Question: Match URLs and extract host\n",
        "\n",
        "inputs = [\"Visit https://www.example.com for more info\",\n",
        "          \"Our website is example.com\",\n",
        "          \"No URLs here\"]\n",
        "\n",
        "for text in inputs:\n",
        "    matches = re.findall(r\"https?://([^\\s/?\\.]+\\.?)+(/[^\\s]*)?\", text)\n",
        "    if matches:\n",
        "        for match in matches:\n",
        "            host = match[0]\n",
        "            print(f\"The host in \\\"{text}\\\" is {host}.\")\n",
        "    else:\n",
        "        print(f\"No URLs found in \\\"{text}\\\".\")"
      ]
    },
    {
      "cell_type": "code",
      "execution_count": null,
      "metadata": {
        "colab": {
          "base_uri": "https://localhost:8080/"
        },
        "id": "3Lr7RfpqZhJD",
        "outputId": "5707ea04-5e18-46aa-d796-9eb4577bf7cc"
      },
      "outputs": [
        {
          "output_type": "stream",
          "name": "stdout",
          "text": [
            "The cleaned text of \"Hello world!\" is \"Helloworld\".\n",
            "The cleaned text of \"123 Main St.\" is \"MainSt\".\n",
            "The cleaned text of \"greetings&more\" is \"greetingsmore\".\n"
          ]
        }
      ],
      "source": [
        "#6 Question: Remove non-alphabetic characters\n",
        "\n",
        "inputs = [\"Hello world!\",\n",
        "          \"123 Main St.\",\n",
        "          \"greetings&more\"]\n",
        "\n",
        "for text in inputs:\n",
        "    cleaned_text = re.sub(r\"[^a-zA-Z]+\", \"\", text)\n",
        "    print(f\"The cleaned text of \\\"{text}\\\" is \\\"{cleaned_text}\\\".\")"
      ]
    },
    {
      "cell_type": "code",
      "execution_count": null,
      "metadata": {
        "colab": {
          "base_uri": "https://localhost:8080/"
        },
        "id": "8ciM6qgkZhJE",
        "outputId": "62e5cbf2-1f79-451e-b11f-63908bb8d02c"
      },
      "outputs": [
        {
          "output_type": "stream",
          "name": "stdout",
          "text": [
            "The words containing 'tion' in \"This is a test sentence with the word station in it.\" are: station.\n",
            "The words containing 'tion' in \"No words containing tion here\" are: tion.\n",
            "The words containing 'tion' in \"motion activation vacation\" are: motion, activation, vacation.\n"
          ]
        }
      ],
      "source": [
        "#7 Question: Find words containing \"tion\"\n",
        "\n",
        "inputs = [\"This is a test sentence with the word station in it.\",\n",
        "          \"No words containing tion here\",\n",
        "          \"motion activation vacation\"]\n",
        "\n",
        "for text in inputs:\n",
        "    matches = re.findall(r\"\\b\\w*tion\\w*\\b\", text)\n",
        "    if matches:\n",
        "        print(f\"The words containing 'tion' in \\\"{text}\\\" are: {', '.join(matches)}.\")\n",
        "    else:\n",
        "        print(f\"No words containing 'tion' found in \\\"{text}\\\".\")"
      ]
    },
    {
      "cell_type": "code",
      "execution_count": null,
      "metadata": {
        "colab": {
          "base_uri": "https://localhost:8080/"
        },
        "id": "Hh7pbOXkZhJF",
        "outputId": "45d181f9-eaec-4827-cf39-9dec10d1d946"
      },
      "outputs": [
        {
          "output_type": "stream",
          "name": "stdout",
          "text": [
            "['goodbye world', 'goodbye there', 'no match']\n"
          ]
        }
      ],
      "source": [
        "#8 Question: Replace all occurrences of \"hello\" with \"goodbye\"\n",
        "\n",
        "inputs = [\"hello world\",\n",
        "          \"hello there\",\n",
        "          \"no match\"]\n",
        "\n",
        "replacement_word = \"goodbye\"\n",
        "\n",
        "for index, text in enumerate(inputs):\n",
        "    # Use regular expressions to replace \"hello\" with \"goodbye\"\n",
        "    inputs[index] = re.sub(r'hello', replacement_word, text)\n",
        "\n",
        "print(inputs)"
      ]
    },
    {
      "cell_type": "code",
      "execution_count": 3,
      "metadata": {
        "colab": {
          "base_uri": "https://localhost:8080/"
        },
        "id": "8AxFFmFfZhJG",
        "outputId": "bbadc244-f4ed-476f-ded1-d0f745a49aab"
      },
      "outputs": [
        {
          "output_type": "stream",
          "name": "stdout",
          "text": [
            "['2023-01-15']\n",
            "['2023-02-01T13:00:00Z']\n"
          ]
        }
      ],
      "source": [
        "#9 Question: Extract date strings in ISO8601 format\n",
        "\n",
        "inputs = [\"Log from 2023-01-15\",\n",
        "          \"Meeting on 2023-02-01T13:00:00Z\",\n",
        "          \"No dates\"]\n",
        "\n",
        "def extract_iso8601_dates(text):\n",
        "    iso8601_dates = re.findall(r'\\d{4}-\\d{2}-\\d{2}(?:T\\d{2}:\\d{2}:\\d{2}Z)?', text)\n",
        "    return iso8601_dates\n",
        "for text in inputs:\n",
        "    iso8601_dates = extract_iso8601_dates(text)\n",
        "    if iso8601_dates:\n",
        "        print(iso8601_dates)"
      ]
    },
    {
      "cell_type": "code",
      "execution_count": 5,
      "metadata": {
        "colab": {
          "base_uri": "https://localhost:8080/"
        },
        "id": "ZQIOxRhpZhJH",
        "outputId": "651e3051-417a-47b7-de23-634e18532b82"
      },
      "outputs": [
        {
          "output_type": "stream",
          "name": "stdout",
          "text": [
            "\"2023-01-15\" is valid: True\n",
            "\"02/01/2023\" is valid: False\n",
            "\"invalid date\" is valid: False\n"
          ]
        }
      ],
      "source": [
        "#10 Question: Validate correctly formatted date\n",
        "\n",
        "inputs = [\"2023-01-15\",\n",
        "          \"02/01/2023\",\n",
        "          \"invalid date\"]\n",
        "\n",
        " # your code here ...:\n",
        "def validate_dates(text):\n",
        "    if re.match(r'\\d{4}-\\d{2}-\\d{2}', text):\n",
        "        return True\n",
        "    else:\n",
        "        return False\n",
        "for date in inputs:\n",
        "    is_valid = validate_dates(date)\n",
        "    print(f'\"{date}\" is valid: {is_valid}')\n"
      ]
    },
    {
      "cell_type": "code",
      "execution_count": null,
      "metadata": {
        "colab": {
          "base_uri": "https://localhost:8080/"
        },
        "id": "H3zgnDtgZhJI",
        "outputId": "4b19cff9-ac8b-4f7f-f90b-c6ad15131236"
      },
      "outputs": [
        {
          "output_type": "stream",
          "name": "stdout",
          "text": [
            "Input: Hello! World? | Cleaned Text: Hello World\n",
            "Input: 123-Main_St. | Cleaned Text: 123-Main_St\n",
            "Input: Hi there. | Cleaned Text: Hi there\n"
          ]
        }
      ],
      "source": [
        "#11 Question: Remove punctuation except hyphens\n",
        "\n",
        "inputs = [\"Hello! World?\",\n",
        "          \"123-Main_St.\",\n",
        "          \"Hi there.\"]\n",
        "def remove_punctuation(text):\n",
        "\n",
        "    pattern = r\"[^\\w\\s-]\"\n",
        "\n",
        "    cleaned_text = re.sub(pattern, \"\", text)\n",
        "\n",
        "    return cleaned_text\n",
        "\n",
        "for text in inputs:\n",
        "    cleaned_text = remove_punctuation(text)\n",
        "    print(f\"Input: {text} | Cleaned Text: {cleaned_text}\")"
      ]
    },
    {
      "cell_type": "code",
      "execution_count": 6,
      "metadata": {
        "id": "jKcX_A4vZhJI",
        "colab": {
          "base_uri": "https://localhost:8080/"
        },
        "outputId": "f84498de-514c-41b4-baa0-e0be5472de83"
      },
      "outputs": [
        {
          "output_type": "stream",
          "name": "stdout",
          "text": [
            "The word \"hello\" appears 4 times.\n"
          ]
        }
      ],
      "source": [
        "#12 Question: Count occurrences of a word\n",
        "\n",
        "inputs = [\"Hello world. Hello!\",\n",
        "          \"Hello hello world\",\n",
        "          \"no match\"]\n",
        "\n",
        "def count_word_occurrences(word, text_list):\n",
        "    word = word.lower()\n",
        "    count = 0\n",
        "\n",
        "    pattern = r'\\b' + re.escape(word) + r'\\b'\n",
        "\n",
        "    for text in text_list:\n",
        "        matches = re.findall(pattern, text.lower())\n",
        "        count += len(matches)\n",
        "\n",
        "    return count\n",
        "\n",
        "inputs = [\"Hello world. Hello!\", \"Hello hello world\", \"no match\"]\n",
        "word_to_count = \"hello\"\n",
        "occurrences = count_word_occurrences(word_to_count, inputs)\n",
        "print(f'The word \"{word_to_count}\" appears {occurrences} times.')\n"
      ]
    },
    {
      "cell_type": "code",
      "execution_count": null,
      "metadata": {
        "colab": {
          "base_uri": "https://localhost:8080/"
        },
        "id": "dn4U-MMFZhJJ",
        "outputId": "e7a33909-f756-49ce-ac49-b0e84b2e6f76"
      },
      "outputs": [
        {
          "output_type": "stream",
          "name": "stdout",
          "text": [
            "The IP addresses in \"127.0.0.1 - GET /\" are: 127.0.0.1.\n",
            "The IP addresses in \"User logged in from 192.168.1.1\" are: 192.168.1.1.\n",
            "No IP addresses found in \"No IPs\".\n"
          ]
        }
      ],
      "source": [
        "#13 Question: Extract IP addresses from log\n",
        "\n",
        "inputs = [\"127.0.0.1 - GET /\",\n",
        "          \"User logged in from 192.168.1.1\",\n",
        "          \"No IPs\"]\n",
        "\n",
        "for text in inputs:\n",
        "    ip_addresses = re.findall(r\"\\b(?:\\d{1,3}\\.){3}\\d{1,3}\\b\", text)\n",
        "    if ip_addresses:\n",
        "        print(f\"The IP addresses in \\\"{text}\\\" are: {', '.join(ip_addresses)}.\")\n",
        "    else:\n",
        "        print(f\"No IP addresses found in \\\"{text}\\\".\")"
      ]
    },
    {
      "cell_type": "code",
      "execution_count": 7,
      "metadata": {
        "colab": {
          "base_uri": "https://localhost:8080/"
        },
        "id": "ung4-nA_ZhJK",
        "outputId": "36189cad-0fa1-498b-e2a3-8180a09289fc"
      },
      "outputs": [
        {
          "output_type": "stream",
          "name": "stdout",
          "text": [
            "Visa: XXXX-XXXX-XXXX-XXXX\n",
            "My SSN is XXX-XX-XXXX\n",
            "No numbers\n"
          ]
        }
      ],
      "source": [
        "#14 Question: Redact credit card and SSN numbers\n",
        "\n",
        "inputs = [\"Visa: 4111-1111-1111-1111\",\n",
        "          \"My SSN is 111-11-1111\",\n",
        "          \"No numbers\"]\n",
        "\n",
        "def redact_numbers(text):\n",
        "    text = re.sub(r'\\b\\d{4}-\\d{4}-\\d{4}-\\d{4}\\b', 'XXXX-XXXX-XXXX-XXXX', text)\n",
        "\n",
        "    text = re.sub(r'\\b\\d{3}-\\d{2}-\\d{4}\\b', 'XXX-XX-XXXX', text)\n",
        "\n",
        "    return text\n",
        "for text in inputs:\n",
        "    redacted_text = redact_numbers(text)\n",
        "    print(redacted_text)\n"
      ]
    }
  ],
  "metadata": {
    "kernelspec": {
      "display_name": "ds",
      "language": "python",
      "name": "python3"
    },
    "language_info": {
      "codemirror_mode": {
        "name": "ipython",
        "version": 3
      },
      "file_extension": ".py",
      "mimetype": "text/x-python",
      "name": "python",
      "nbconvert_exporter": "python",
      "pygments_lexer": "ipython3",
      "version": "3.9.18"
    },
    "colab": {
      "provenance": []
    }
  },
  "nbformat": 4,
  "nbformat_minor": 0
}